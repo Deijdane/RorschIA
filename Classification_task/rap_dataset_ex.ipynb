{
 "cells": [
  {
   "cell_type": "code",
   "execution_count": 2,
   "metadata": {},
   "outputs": [],
   "source": [
    "from sklearn.feature_extraction.text import TfidfVectorizer\n",
    "from sklearn.model_selection import train_test_split\n",
    "import pandas as pd\n",
    "import numpy as np\n",
    "from sklearn import svm"
   ]
  },
  {
   "cell_type": "code",
   "execution_count": 3,
   "metadata": {},
   "outputs": [
    {
     "data": {
      "text/html": [
       "<div>\n",
       "<style scoped>\n",
       "    .dataframe tbody tr th:only-of-type {\n",
       "        vertical-align: middle;\n",
       "    }\n",
       "\n",
       "    .dataframe tbody tr th {\n",
       "        vertical-align: top;\n",
       "    }\n",
       "\n",
       "    .dataframe thead th {\n",
       "        text-align: right;\n",
       "    }\n",
       "</style>\n",
       "<table border=\"1\" class=\"dataframe\">\n",
       "  <thead>\n",
       "    <tr style=\"text-align: right;\">\n",
       "      <th></th>\n",
       "      <th>User</th>\n",
       "      <th>PQLevel</th>\n",
       "      <th>Client</th>\n",
       "      <th>Age</th>\n",
       "      <th>Gender</th>\n",
       "      <th>Country</th>\n",
       "      <th>Protocol</th>\n",
       "      <th>TestDate</th>\n",
       "      <th>R</th>\n",
       "      <th>ResponseOrder</th>\n",
       "      <th>...</th>\n",
       "      <th>Determinants</th>\n",
       "      <th>Pair</th>\n",
       "      <th>FormQuality</th>\n",
       "      <th>FQText</th>\n",
       "      <th>Contents</th>\n",
       "      <th>Popular</th>\n",
       "      <th>ZCode</th>\n",
       "      <th>ZScore</th>\n",
       "      <th>SpecialScores</th>\n",
       "      <th>Rejection</th>\n",
       "    </tr>\n",
       "  </thead>\n",
       "  <tbody>\n",
       "    <tr>\n",
       "      <th>0</th>\n",
       "      <td>136</td>\n",
       "      <td>C</td>\n",
       "      <td>31852</td>\n",
       "      <td>28</td>\n",
       "      <td>Male</td>\n",
       "      <td>Israel</td>\n",
       "      <td>32669</td>\n",
       "      <td>4/28/2017 1:06</td>\n",
       "      <td>22</td>\n",
       "      <td>2</td>\n",
       "      <td>...</td>\n",
       "      <td>FC'</td>\n",
       "      <td>0</td>\n",
       "      <td>o</td>\n",
       "      <td>NaN</td>\n",
       "      <td>Hd,Hx</td>\n",
       "      <td>0</td>\n",
       "      <td>ZS</td>\n",
       "      <td>3.5</td>\n",
       "      <td>PHR</td>\n",
       "      <td>0</td>\n",
       "    </tr>\n",
       "    <tr>\n",
       "      <th>1</th>\n",
       "      <td>136</td>\n",
       "      <td>C</td>\n",
       "      <td>31852</td>\n",
       "      <td>28</td>\n",
       "      <td>Male</td>\n",
       "      <td>Israel</td>\n",
       "      <td>32669</td>\n",
       "      <td>4/28/2017 1:06</td>\n",
       "      <td>22</td>\n",
       "      <td>1</td>\n",
       "      <td>...</td>\n",
       "      <td>F</td>\n",
       "      <td>1</td>\n",
       "      <td>-</td>\n",
       "      <td>NaN</td>\n",
       "      <td>A</td>\n",
       "      <td>0</td>\n",
       "      <td>NaN</td>\n",
       "      <td>NaN</td>\n",
       "      <td>NaN</td>\n",
       "      <td>0</td>\n",
       "    </tr>\n",
       "    <tr>\n",
       "      <th>2</th>\n",
       "      <td>136</td>\n",
       "      <td>C</td>\n",
       "      <td>31852</td>\n",
       "      <td>28</td>\n",
       "      <td>Male</td>\n",
       "      <td>Israel</td>\n",
       "      <td>32669</td>\n",
       "      <td>4/28/2017 1:06</td>\n",
       "      <td>22</td>\n",
       "      <td>3</td>\n",
       "      <td>...</td>\n",
       "      <td>F</td>\n",
       "      <td>1</td>\n",
       "      <td>-</td>\n",
       "      <td>NaN</td>\n",
       "      <td>Ad,A</td>\n",
       "      <td>0</td>\n",
       "      <td>ZA</td>\n",
       "      <td>3.0</td>\n",
       "      <td>FAB</td>\n",
       "      <td>0</td>\n",
       "    </tr>\n",
       "    <tr>\n",
       "      <th>3</th>\n",
       "      <td>136</td>\n",
       "      <td>C</td>\n",
       "      <td>31852</td>\n",
       "      <td>28</td>\n",
       "      <td>Male</td>\n",
       "      <td>Israel</td>\n",
       "      <td>32669</td>\n",
       "      <td>4/28/2017 1:06</td>\n",
       "      <td>22</td>\n",
       "      <td>4</td>\n",
       "      <td>...</td>\n",
       "      <td>C'F</td>\n",
       "      <td>0</td>\n",
       "      <td>-</td>\n",
       "      <td>NaN</td>\n",
       "      <td>Hd</td>\n",
       "      <td>0</td>\n",
       "      <td>ZW</td>\n",
       "      <td>5.5</td>\n",
       "      <td>PHR</td>\n",
       "      <td>0</td>\n",
       "    </tr>\n",
       "    <tr>\n",
       "      <th>4</th>\n",
       "      <td>136</td>\n",
       "      <td>C</td>\n",
       "      <td>31852</td>\n",
       "      <td>28</td>\n",
       "      <td>Male</td>\n",
       "      <td>Israel</td>\n",
       "      <td>32669</td>\n",
       "      <td>4/28/2017 1:06</td>\n",
       "      <td>22</td>\n",
       "      <td>5</td>\n",
       "      <td>...</td>\n",
       "      <td>F</td>\n",
       "      <td>1</td>\n",
       "      <td>o</td>\n",
       "      <td>NaN</td>\n",
       "      <td>A</td>\n",
       "      <td>0</td>\n",
       "      <td>NaN</td>\n",
       "      <td>NaN</td>\n",
       "      <td>NaN</td>\n",
       "      <td>0</td>\n",
       "    </tr>\n",
       "  </tbody>\n",
       "</table>\n",
       "<p>5 rows × 24 columns</p>\n",
       "</div>"
      ],
      "text/plain": [
       "   User PQLevel  Client  Age Gender Country  Protocol        TestDate   R  \\\n",
       "0   136       C   31852   28   Male  Israel     32669  4/28/2017 1:06  22   \n",
       "1   136       C   31852   28   Male  Israel     32669  4/28/2017 1:06  22   \n",
       "2   136       C   31852   28   Male  Israel     32669  4/28/2017 1:06  22   \n",
       "3   136       C   31852   28   Male  Israel     32669  4/28/2017 1:06  22   \n",
       "4   136       C   31852   28   Male  Israel     32669  4/28/2017 1:06  22   \n",
       "\n",
       "   ResponseOrder  ...  Determinants Pair  FormQuality FQText Contents  \\\n",
       "0              2  ...           FC'    0            o    NaN    Hd,Hx   \n",
       "1              1  ...             F    1            -    NaN        A   \n",
       "2              3  ...             F    1            -    NaN     Ad,A   \n",
       "3              4  ...           C'F    0            -    NaN       Hd   \n",
       "4              5  ...             F    1            o    NaN        A   \n",
       "\n",
       "   Popular ZCode ZScore SpecialScores  Rejection  \n",
       "0        0    ZS    3.5           PHR          0  \n",
       "1        0   NaN    NaN           NaN          0  \n",
       "2        0    ZA    3.0           FAB          0  \n",
       "3        0    ZW    5.5           PHR          0  \n",
       "4        0   NaN    NaN           NaN          0  \n",
       "\n",
       "[5 rows x 24 columns]"
      ]
     },
     "execution_count": 3,
     "metadata": {},
     "output_type": "execute_result"
    }
   ],
   "source": [
    "data=pd.read_csv('data/rap_dataset.tsv', sep='\\t')\n",
    "data.head()"
   ]
  },
  {
   "cell_type": "code",
   "execution_count": 5,
   "metadata": {},
   "outputs": [
    {
     "data": {
      "text/plain": [
       "Index(['User', 'PQLevel', 'Client', 'Age', 'Gender', 'Country', 'Protocol',\n",
       "       'TestDate', 'R', 'ResponseOrder', 'cardID', 'Location',\n",
       "       'LocationNumber', 'DevelopmentalQuality', 'Determinants', 'Pair',\n",
       "       'FormQuality', 'FQText', 'Contents', 'Popular', 'ZCode', 'ZScore',\n",
       "       'SpecialScores', 'Rejection'],\n",
       "      dtype='object')"
      ]
     },
     "execution_count": 5,
     "metadata": {},
     "output_type": "execute_result"
    }
   ],
   "source": [
    "data.columns"
   ]
  },
  {
   "cell_type": "code",
   "execution_count": 25,
   "metadata": {},
   "outputs": [],
   "source": [
    "df1=data.dropna()\n",
    "#df1.info"
   ]
  },
  {
   "cell_type": "code",
   "execution_count": 13,
   "metadata": {},
   "outputs": [],
   "source": [
    "text=np.array(df1['FQText']) #we create a NumPy array with the text/answer\n",
    "labels=np.array(df1['Contents']) #other array for the coding of this answer"
   ]
  },
  {
   "cell_type": "code",
   "execution_count": 27,
   "metadata": {},
   "outputs": [
    {
     "data": {
      "text/plain": [
       "0.49442896935933145"
      ]
     },
     "execution_count": 27,
     "metadata": {},
     "output_type": "execute_result"
    }
   ],
   "source": [
    "x_train,x_test,y_train,y_test=train_test_split(text,labels,test_size=0.05) #Change test_size\n",
    "\n",
    "tf_vectorizer=TfidfVectorizer(min_df=2,max_df=0.3,ngram_range=(1,3)) #change parameter\n",
    "x_train_tfidf=tf_vectorizer.fit_transform(x_train)\n",
    "x_test_tfidf=tf_vectorizer.transform(x_test)\n",
    "\n",
    "clf = svm.LinearSVC(dual=True, max_iter=1000)\n",
    "clf.fit(x_train_tfidf, y_train)\n",
    "\n",
    "clf.score(x_test_tfidf,y_test)"
   ]
  },
  {
   "cell_type": "code",
   "execution_count": 28,
   "metadata": {},
   "outputs": [],
   "source": [
    "def classify(article_text):\n",
    "    global clf\n",
    "    global tf_vectorizer\n",
    "    global data\n",
    "    article=tf_vectorizer.transform([article_text])\n",
    "    \n",
    "    return clf.predict(article)[0]"
   ]
  },
  {
   "cell_type": "code",
   "execution_count": 33,
   "metadata": {},
   "outputs": [
    {
     "data": {
      "text/plain": [
       "'Hd'"
      ]
     },
     "execution_count": 33,
     "metadata": {},
     "output_type": "execute_result"
    }
   ],
   "source": [
    "classify(\"a head\") #change string here"
   ]
  }
 ],
 "metadata": {
  "kernelspec": {
   "display_name": "Python 3",
   "language": "python",
   "name": "python3"
  },
  "language_info": {
   "codemirror_mode": {
    "name": "ipython",
    "version": 3
   },
   "file_extension": ".py",
   "mimetype": "text/x-python",
   "name": "python",
   "nbconvert_exporter": "python",
   "pygments_lexer": "ipython3",
   "version": "3.11.8"
  }
 },
 "nbformat": 4,
 "nbformat_minor": 2
}
